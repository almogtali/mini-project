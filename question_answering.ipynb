{
 "cells": [
  {
   "cell_type": "code",
   "execution_count": 1,
   "id": "ca86050e-ece2-49cf-97fa-62961b22131b",
   "metadata": {
    "ExecuteTime": {
     "end_time": "2025-05-14T07:04:08.323763Z",
     "start_time": "2025-05-14T07:04:08.320166Z"
    }
   },
   "outputs": [],
   "source": [
    "ip_port = \"132.72.66.220:9991\"\n"
   ]
  },
  {
   "cell_type": "code",
   "execution_count": 2,
   "id": "501cd9f5",
   "metadata": {
    "ExecuteTime": {
     "end_time": "2025-05-14T07:04:10.205425Z",
     "start_time": "2025-05-14T07:04:09.240548Z"
    }
   },
   "outputs": [
    {
     "name": "stdout",
     "output_type": "stream",
     "text": [
      "Response: <Response [200]>\n"
     ]
    }
   ],
   "source": [
    "import requests\n",
    "\n",
    "# Define the URL and payload\n",
    "url = f\"http://{ip_port}/api/pull\"\n",
    "payload = {\n",
    "    \"model\": \"qwen3:32b\"\n",
    "}\n",
    "\n",
    "# Make a POST request\n",
    "response = requests.post(url, json=payload)\n",
    "\n",
    "# Check the response\n",
    "if response.status_code == 200:\n",
    "    print(\"Response:\", response)"
   ]
  },
  {
   "cell_type": "code",
   "execution_count": 3,
   "id": "06f100fa",
   "metadata": {
    "ExecuteTime": {
     "end_time": "2025-05-14T07:04:11.664507Z",
     "start_time": "2025-05-14T07:04:11.662864Z"
    }
   },
   "outputs": [],
   "source": [
    "url = f\"http://{ip_port}/api/generate\""
   ]
  },
  {
   "cell_type": "code",
   "execution_count": null,
   "id": "76b90211-3099-4a7c-a206-182c01781274",
   "metadata": {
    "ExecuteTime": {
     "end_time": "2025-05-14T07:04:23.071706Z",
     "start_time": "2025-05-14T07:04:23.067996Z"
    }
   },
   "outputs": [],
   "source": [
    "import json\n",
    "\n",
    "def extract_full_text(response_text):\n",
    "    \"\"\"\n",
    "    This function extracts and concatenates text from the 'response' field in each JSON line of the response.\n",
    "    \n",
    "    Parameters:\n",
    "    response_text (str): The raw response text, with each line being a JSON string.\n",
    "\n",
    "    Returns:\n",
    "    str: The concatenated text from all 'response' fields.\n",
    "    \"\"\"\n",
    "    full_text = \"\"  # Variable to store the complete text\n",
    "    \n",
    "    # Iterate over each line in the response\n",
    "    for line in response_text.text.splitlines():\n",
    "        try:\n",
    "            data = json.loads(line)  # Parse each JSON line\n",
    "            if \"response\" in data:\n",
    "                full_text += data[\"response\"]  # Append the text\n",
    "        except json.JSONDecodeError:\n",
    "            print(\"Unable to parse line:\", line)\n",
    "    \n",
    "    return full_text"
   ]
  },
  {
   "cell_type": "code",
   "execution_count": 5,
   "id": "69b92362-cc57-495e-a0d7-a9becb56fe50",
   "metadata": {
    "ExecuteTime": {
     "end_time": "2025-05-14T07:04:27.330607Z",
     "start_time": "2025-05-14T07:04:27.327875Z"
    }
   },
   "outputs": [],
   "source": [
    "import requests\n",
    "\n",
    "def classify(Question):\n",
    "    prompt = f\"\"\"\n",
    "       \n",
    "        أجب عن السؤال التالي في خمس إلى ست جمل.\n",
    "        أجب على السؤال باللغة العربية.\n",
    "\n",
    "        {Question}\n",
    "       \n",
    "\"\"\"\n",
    "    \n",
    "    payload = {\n",
    "        \"model\": \"qwen3:32b\",\n",
    "        \"prompt\": prompt,\n",
    "        \"temperature\": 0,  \n",
    "        \"top_p\": 0.1\n",
    "    }\n",
    "\n",
    "#     print(prompt)\n",
    "    # Make a POST request\n",
    "    response = requests.post(url, json=payload)\n",
    "\n",
    "    # Validate the response\n",
    "    if response.status_code == 200:\n",
    "#         print(response.text)\n",
    "        decision = extract_full_text(response)  # Extract the decision from the response\n",
    "        return decision  # Return the decision\n",
    "    else:\n",
    "        print(f\"Error: {response.status_code} - {response.text}\")\n",
    "        return None\n"
   ]
  },
  {
   "cell_type": "code",
   "execution_count": 6,
   "id": "53189ed2-9f87-42d7-bcb3-362826250858",
   "metadata": {
    "ExecuteTime": {
     "end_time": "2025-05-14T07:04:28.045845Z",
     "start_time": "2025-05-14T07:04:28.044203Z"
    },
    "scrolled": true
   },
   "outputs": [],
   "source": [
    "# !pip install pandas openpyxl"
   ]
  },
  {
   "cell_type": "code",
   "execution_count": 7,
   "id": "b8712b10",
   "metadata": {
    "ExecuteTime": {
     "end_time": "2025-05-14T07:04:31.658413Z",
     "start_time": "2025-05-14T07:04:30.239344Z"
    }
   },
   "outputs": [
    {
     "name": "stdout",
     "output_type": "stream",
     "text": [
      "   id                         arabic\n",
      "0   1               كيف تتشكل السحب؟\n",
      "1   2        كيف انقرضت الديناصورات؟\n",
      "2   3               ما هو الديناصور؟\n",
      "3   4  لماذا تختلف ألوان عيون البشر؟\n",
      "4   5     ما الفرق بين الذئب والكلب؟\n"
     ]
    }
   ],
   "source": [
    "import pandas as pd\n",
    "\n",
    "# Replace with your actual file path and sheet name\n",
    "file_path = 'questions.xlsx'\n",
    "sheet_name = 'arabic'  # or the exact name of the sheet\n",
    "\n",
    "# Read the specific sheet\n",
    "df = pd.read_excel(file_path, sheet_name=sheet_name, engine='openpyxl')\n",
    "\n",
    "# Print the first few rows\n",
    "print(df.head())\n"
   ]
  },
  {
   "cell_type": "code",
   "execution_count": 8,
   "id": "3848edf7-d9e3-4acf-aeb4-c91c035e2770",
   "metadata": {
    "ExecuteTime": {
     "end_time": "2025-05-14T07:04:31.663029Z",
     "start_time": "2025-05-14T07:04:31.659392Z"
    }
   },
   "outputs": [
    {
     "data": {
      "text/plain": [
       "'كيف تتشكل السحب؟'"
      ]
     },
     "execution_count": 8,
     "metadata": {},
     "output_type": "execute_result"
    }
   ],
   "source": [
    "df.iloc[0].arabic"
   ]
  },
  {
   "cell_type": "code",
   "execution_count": 9,
   "id": "168be752-c3d3-471b-bbf2-fe7be9ca6a0f",
   "metadata": {
    "ExecuteTime": {
     "end_time": "2025-05-14T07:08:09.640723Z",
     "start_time": "2025-05-14T07:04:32.478210Z"
    }
   },
   "outputs": [
    {
     "data": {
      "text/plain": [
       "\"<think>\\nOkay, the user is asking how clouds form, and they want the answer in 5 to 6 sentences in Arabic. Let me start by recalling the basic process. Clouds form when water vapor in the air condenses into droplets. I need to explain the steps clearly.\\n\\nFirst, the sun heats the Earth's surface, causing water to evaporate. Then, the warm, moist air rises. As it ascends, it cools down. When the air cools to the dew point, the water vapor condenses around tiny particles like dust or salt. These condensed droplets gather to form clouds. Maybe I should mention the role of condensation nuclei here. Also, different types of clouds can form depending on altitude and weather conditions. I should keep it concise, making sure each sentence covers a key step without getting too technical. Let me check if I have all the necessary points and structure it smoothly in Arabic.\\n</think>\\n\\nتشكل السحب نتيجة تكثُّف بخار الماء في الغلاف الجوي. تبدأ العملية عندما تسخن أشعة الشمس سطح الأرض، مما يزيد من معدل التبخر ورفع بخار الماء إلى الأعالي. مع ارتفاع الهواء الدافئ الرطب، يبرد تدريجيًا بسبب انخفاض درجة الحرارة مع الارتفاع. عندما يبرد الهواء إلى درجة التكاثف (نقطة الندى)، يتكثف بخار الماء حول جسيمات دقيقة مثل الغبار أو أملاح البحر، مُشكِّلًا قطرات صغيرة. تتجمع هذه القطرات معًا لتشكل السحب، وتختلف أنواعها حسب ارتفاع التكاثف وظروف المناخ. إذا تجمد بخار الماء في درجات حرارة منخفضة، قد تتشكل سحب من جليد أو خليط من الماء والجليد.\""
      ]
     },
     "execution_count": 9,
     "metadata": {},
     "output_type": "execute_result"
    }
   ],
   "source": [
    "classify(df.iloc[0].arabic)"
   ]
  },
  {
   "cell_type": "code",
   "execution_count": 10,
   "id": "fdbe8bb6-6c47-4ae5-9983-790af9ffec2b",
   "metadata": {
    "ExecuteTime": {
     "end_time": "2025-05-14T07:11:06.448571Z",
     "start_time": "2025-05-14T07:11:06.446114Z"
    }
   },
   "outputs": [
    {
     "data": {
      "text/plain": [
       "40"
      ]
     },
     "execution_count": 10,
     "metadata": {},
     "output_type": "execute_result"
    }
   ],
   "source": [
    "# d= pd.read_csv('deepseek/tweets_FDA.csv')\n",
    "df.shape[0]"
   ]
  },
  {
   "cell_type": "code",
   "execution_count": 13,
   "id": "2856008c-3de5-420d-9741-ae92d4245bac",
   "metadata": {
    "ExecuteTime": {
     "end_time": "2025-05-14T07:36:30.065147Z",
     "start_time": "2025-05-14T07:28:43.546115Z"
    }
   },
   "outputs": [
    {
     "name": "stderr",
     "output_type": "stream",
     "text": [
      "Processing rows: 100%|██████████| 40/40 [07:46<00:00, 11.66s/it]"
     ]
    },
    {
     "name": "stdout",
     "output_type": "stream",
     "text": [
      "Processing completed!\n"
     ]
    },
    {
     "name": "stderr",
     "output_type": "stream",
     "text": [
      "\n"
     ]
    }
   ],
   "source": [
    "import os\n",
    "import pandas as pd\n",
    "from tqdm import tqdm\n",
    "\n",
    "def get_last_processed_user(output_file):\n",
    "    try:\n",
    "        # Read the last line of the file to get the last processed user\n",
    "        with open(output_file, 'r', encoding='utf-8-sig') as file:\n",
    "            last_line = file.readlines()[-1]\n",
    "            return last_line.split(',')[0]  # Assuming 'screen_name' is the first column\n",
    "    except:\n",
    "        # If there's an error (e.g., file is empty or doesn't exist), return None\n",
    "        return None\n",
    "\n",
    "def add_decision_column_and_save(df, output_file):\n",
    "    # Check if the file already exists\n",
    "    file_exists = os.path.exists(output_file)\n",
    "    last_processed_user = get_last_processed_user(output_file) if file_exists else None\n",
    "    start_processing = False if last_processed_user else True\n",
    "    i = 0\n",
    "    # Open the CSV file for appending\n",
    "    with open(output_file, 'a', encoding='utf-8-sig', newline='') as file:\n",
    "        # Iterate over rows with tqdm for progress tracking\n",
    "        for i in tqdm(range(len(df)), desc=\"Processing rows\"):\n",
    "            content = df.iloc[i]['arabic']\n",
    "            # if i < number:\n",
    "            #     i+=1\n",
    "            #     continue\n",
    "\n",
    "            # # Start processing if it's the first run or after the last processed user\n",
    "            # if start_processing or screen_name == last_processed_user:\n",
    "            #     start_processing = True\n",
    "\n",
    "            # name = df.iloc[i]['name']\n",
    "            \n",
    "            # Call the classify_user function to determine if it's an individual or organization\n",
    "            decision = classify(content)\n",
    "            \n",
    "            # Prepare the current row with the decision and only the relevant columns\n",
    "            current_row = {\n",
    "                'text': content,\n",
    "#                 'label':df.iloc[i]['label'],\n",
    "                'classify': decision,\n",
    "#                 'number': decision[-5:]\n",
    "            }\n",
    "            \n",
    "            # Convert the row to a DataFrame\n",
    "            row_df = pd.DataFrame([current_row])\n",
    "            \n",
    "            # Append the row to the CSV file\n",
    "            row_df.to_csv(file, mode='a', index=False, header=not file_exists)\n",
    "            file_exists = True  # Ensure the header is written only once\n",
    "\n",
    "# File to save the updated DataFrame\n",
    "output_file = \"qwen3_arabic_3.csv\"\n",
    "\n",
    "# Assuming 'df' is your DataFrame\n",
    "add_decision_column_and_save(df, output_file)\n",
    "\n",
    "# Verify the result (optional)\n",
    "print(\"Processing completed!\")\n"
   ]
  }
 ],
 "metadata": {
  "kernelspec": {
   "display_name": "Python 3 (ipykernel)",
   "language": "python",
   "name": "python3"
  },
  "language_info": {
   "codemirror_mode": {
    "name": "ipython",
    "version": 3
   },
   "file_extension": ".py",
   "mimetype": "text/x-python",
   "name": "python",
   "nbconvert_exporter": "python",
   "pygments_lexer": "ipython3",
   "version": "3.11.7"
  },
  "toc": {
   "base_numbering": 1,
   "nav_menu": {},
   "number_sections": true,
   "sideBar": true,
   "skip_h1_title": false,
   "title_cell": "Table of Contents",
   "title_sidebar": "Contents",
   "toc_cell": false,
   "toc_position": {},
   "toc_section_display": true,
   "toc_window_display": false
  }
 },
 "nbformat": 4,
 "nbformat_minor": 5
}
